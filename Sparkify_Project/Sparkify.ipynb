{
 "cells": [
  {
   "attachments": {},
   "cell_type": "markdown",
   "metadata": {},
   "source": [
    "# Sparkify Project Workspace\n",
    "This workspace contains a tiny subset (128MB) of the full dataset available (12GB). Feel free to use this workspace to build your project, or to explore a smaller subset with Spark before deploying your cluster on the cloud. Instructions for setting up your Spark cluster is included in the last lesson of the Extracurricular Spark Course content.\n",
    "\n",
    "You can follow the steps below to guide your data analysis and model building portion of this project."
   ]
  },
  {
   "cell_type": "code",
   "execution_count": 109,
   "metadata": {},
   "outputs": [],
   "source": [
    "# import libraries\n",
    "from pyspark.sql import SparkSession, Window\n",
    "from pyspark.sql.functions import avg, col, min, max, split, udf, isnan, when, count, desc\n",
    "from pyspark.sql.functions import sum as Fsum\n",
    "from pyspark.ml.feature import MinMaxScaler, VectorAssembler\n",
    "from pyspark.sql.types import IntegerType\n",
    "from pyspark.ml import Pipeline\n",
    "from pyspark.ml.classification import LogisticRegression, RandomForestClassifier, LinearSVC, GBTClassifier\n",
    "from pyspark.ml.evaluation import  MulticlassClassificationEvaluator\n",
    "from pyspark.ml.tuning import CrossValidator, ParamGridBuilder\n",
    "\n",
    "import re\n",
    "import plotly \n",
    "import matplotlib.pyplot as plt\n",
    "import seaborn as sns"
   ]
  },
  {
   "cell_type": "code",
   "execution_count": 110,
   "metadata": {},
   "outputs": [],
   "source": [
    "# create a Spark session\n",
    "sparkify_session = SparkSession.builder \\\n",
    "    .appName(\"SparkifyProject\") \\\n",
    "    .getOrCreate()"
   ]
  },
  {
   "attachments": {},
   "cell_type": "markdown",
   "metadata": {},
   "source": [
    "# Load and Clean Dataset\n",
    "In this workspace, the mini-dataset file is `mini_sparkify_event_data.json`. Load and clean the dataset, checking for invalid or missing data - for example, records without userids or sessionids. "
   ]
  },
  {
   "cell_type": "code",
   "execution_count": 111,
   "metadata": {},
   "outputs": [],
   "source": [
    "df = sparkify_session.read.json('mini_sparkify_event_data.json')"
   ]
  },
  {
   "cell_type": "code",
   "execution_count": 112,
   "metadata": {},
   "outputs": [
    {
     "name": "stdout",
     "output_type": "stream",
     "text": [
      "root\n",
      " |-- artist: string (nullable = true)\n",
      " |-- auth: string (nullable = true)\n",
      " |-- firstName: string (nullable = true)\n",
      " |-- gender: string (nullable = true)\n",
      " |-- itemInSession: long (nullable = true)\n",
      " |-- lastName: string (nullable = true)\n",
      " |-- length: double (nullable = true)\n",
      " |-- level: string (nullable = true)\n",
      " |-- location: string (nullable = true)\n",
      " |-- method: string (nullable = true)\n",
      " |-- page: string (nullable = true)\n",
      " |-- registration: long (nullable = true)\n",
      " |-- sessionId: long (nullable = true)\n",
      " |-- song: string (nullable = true)\n",
      " |-- status: long (nullable = true)\n",
      " |-- ts: long (nullable = true)\n",
      " |-- userAgent: string (nullable = true)\n",
      " |-- userId: string (nullable = true)\n",
      "\n"
     ]
    }
   ],
   "source": [
    "df.printSchema()"
   ]
  },
  {
   "cell_type": "code",
   "execution_count": 113,
   "metadata": {},
   "outputs": [
    {
     "name": "stdout",
     "output_type": "stream",
     "text": [
      "286500 Rows, 18 Columns\n"
     ]
    }
   ],
   "source": [
    "print('{} Rows, {} Columns'.format(df.count(), len(df.columns)))"
   ]
  },
  {
   "cell_type": "code",
   "execution_count": 114,
   "metadata": {},
   "outputs": [],
   "source": [
    "# Selects the count of null values for each column and assigns column aliases\n",
    "null_counts = df.select([count(when(col(c).isNull(), c)).alias(c) for c in df.columns])\n",
    "\n",
    "# Converts the result to a Pandas DataFrame\n",
    "null_counts = null_counts.toPandas().transpose()"
   ]
  },
  {
   "cell_type": "code",
   "execution_count": 115,
   "metadata": {},
   "outputs": [
    {
     "data": {
      "text/html": [
       "<div>\n",
       "<style scoped>\n",
       "    .dataframe tbody tr th:only-of-type {\n",
       "        vertical-align: middle;\n",
       "    }\n",
       "\n",
       "    .dataframe tbody tr th {\n",
       "        vertical-align: top;\n",
       "    }\n",
       "\n",
       "    .dataframe thead th {\n",
       "        text-align: right;\n",
       "    }\n",
       "</style>\n",
       "<table border=\"1\" class=\"dataframe\">\n",
       "  <thead>\n",
       "    <tr style=\"text-align: right;\">\n",
       "      <th></th>\n",
       "      <th>0</th>\n",
       "    </tr>\n",
       "  </thead>\n",
       "  <tbody>\n",
       "    <tr>\n",
       "      <th>artist</th>\n",
       "      <td>58392</td>\n",
       "    </tr>\n",
       "    <tr>\n",
       "      <th>auth</th>\n",
       "      <td>0</td>\n",
       "    </tr>\n",
       "    <tr>\n",
       "      <th>firstName</th>\n",
       "      <td>8346</td>\n",
       "    </tr>\n",
       "    <tr>\n",
       "      <th>gender</th>\n",
       "      <td>8346</td>\n",
       "    </tr>\n",
       "    <tr>\n",
       "      <th>itemInSession</th>\n",
       "      <td>0</td>\n",
       "    </tr>\n",
       "    <tr>\n",
       "      <th>lastName</th>\n",
       "      <td>8346</td>\n",
       "    </tr>\n",
       "    <tr>\n",
       "      <th>length</th>\n",
       "      <td>58392</td>\n",
       "    </tr>\n",
       "    <tr>\n",
       "      <th>level</th>\n",
       "      <td>0</td>\n",
       "    </tr>\n",
       "    <tr>\n",
       "      <th>location</th>\n",
       "      <td>8346</td>\n",
       "    </tr>\n",
       "    <tr>\n",
       "      <th>method</th>\n",
       "      <td>0</td>\n",
       "    </tr>\n",
       "    <tr>\n",
       "      <th>page</th>\n",
       "      <td>0</td>\n",
       "    </tr>\n",
       "    <tr>\n",
       "      <th>registration</th>\n",
       "      <td>8346</td>\n",
       "    </tr>\n",
       "    <tr>\n",
       "      <th>sessionId</th>\n",
       "      <td>0</td>\n",
       "    </tr>\n",
       "    <tr>\n",
       "      <th>song</th>\n",
       "      <td>58392</td>\n",
       "    </tr>\n",
       "    <tr>\n",
       "      <th>status</th>\n",
       "      <td>0</td>\n",
       "    </tr>\n",
       "    <tr>\n",
       "      <th>ts</th>\n",
       "      <td>0</td>\n",
       "    </tr>\n",
       "    <tr>\n",
       "      <th>userAgent</th>\n",
       "      <td>8346</td>\n",
       "    </tr>\n",
       "    <tr>\n",
       "      <th>userId</th>\n",
       "      <td>0</td>\n",
       "    </tr>\n",
       "  </tbody>\n",
       "</table>\n",
       "</div>"
      ],
      "text/plain": [
       "                   0\n",
       "artist         58392\n",
       "auth               0\n",
       "firstName       8346\n",
       "gender          8346\n",
       "itemInSession      0\n",
       "lastName        8346\n",
       "length         58392\n",
       "level              0\n",
       "location        8346\n",
       "method             0\n",
       "page               0\n",
       "registration    8346\n",
       "sessionId          0\n",
       "song           58392\n",
       "status             0\n",
       "ts                 0\n",
       "userAgent       8346\n",
       "userId             0"
      ]
     },
     "execution_count": 115,
     "metadata": {},
     "output_type": "execute_result"
    }
   ],
   "source": [
    "null_counts"
   ]
  },
  {
   "cell_type": "code",
   "execution_count": 116,
   "metadata": {},
   "outputs": [],
   "source": [
    "df = df.dropna(how = \"any\", subset = [\"userId\", \"sessionId\"])"
   ]
  },
  {
   "attachments": {},
   "cell_type": "markdown",
   "metadata": {},
   "source": [
    "# Exploratory Data Analysis\n",
    "When you're working with the full dataset, perform EDA by loading a small subset of the data and doing basic manipulations within Spark. In this workspace, you are already provided a small subset of data you can explore.\n",
    "\n",
    "### Define Churn\n",
    "\n",
    "Once you've done some preliminary analysis, create a column `Churn` to use as the label for your model. I suggest using the `Cancellation Confirmation` events to define your churn, which happen for both paid and free users. As a bonus task, you can also look into the `Downgrade` events.\n",
    "\n",
    "### Explore Data\n",
    "Once you've defined churn, perform some exploratory data analysis to observe the behavior for users who stayed vs users who churned. You can start by exploring aggregates on these two groups of users, observing how much of a specific action they experienced per a certain time unit or number of songs played."
   ]
  },
  {
   "attachments": {},
   "cell_type": "markdown",
   "metadata": {},
   "source": [
    "### User Analysis \n",
    "1. Distribution of users by gender and level\n",
    "\n",
    "2. Top users with the most activity\n",
    "\n",
    "3. User activity patterns over time"
   ]
  },
  {
   "cell_type": "code",
   "execution_count": 117,
   "metadata": {},
   "outputs": [
    {
     "name": "stdout",
     "output_type": "stream",
     "text": [
      "root\n",
      " |-- artist: string (nullable = true)\n",
      " |-- auth: string (nullable = true)\n",
      " |-- firstName: string (nullable = true)\n",
      " |-- gender: string (nullable = true)\n",
      " |-- itemInSession: long (nullable = true)\n",
      " |-- lastName: string (nullable = true)\n",
      " |-- length: double (nullable = true)\n",
      " |-- level: string (nullable = true)\n",
      " |-- location: string (nullable = true)\n",
      " |-- method: string (nullable = true)\n",
      " |-- page: string (nullable = true)\n",
      " |-- registration: long (nullable = true)\n",
      " |-- sessionId: long (nullable = true)\n",
      " |-- song: string (nullable = true)\n",
      " |-- status: long (nullable = true)\n",
      " |-- ts: long (nullable = true)\n",
      " |-- userAgent: string (nullable = true)\n",
      " |-- userId: string (nullable = true)\n",
      "\n"
     ]
    }
   ],
   "source": [
    "df.printSchema()"
   ]
  },
  {
   "cell_type": "code",
   "execution_count": 118,
   "metadata": {},
   "outputs": [],
   "source": [
    "df.createOrReplaceTempView(\"sparkify_data\")"
   ]
  },
  {
   "cell_type": "code",
   "execution_count": 119,
   "metadata": {},
   "outputs": [
    {
     "name": "stdout",
     "output_type": "stream",
     "text": [
      "+-----------+\n",
      "|total_users|\n",
      "+-----------+\n",
      "|        226|\n",
      "+-----------+\n",
      "\n"
     ]
    }
   ],
   "source": [
    "total_users = sparkify_session.sql('SELECT COUNT (DISTINCT userId) AS total_users FROM sparkify_data')\n",
    "total_users.show()"
   ]
  },
  {
   "cell_type": "code",
   "execution_count": 120,
   "metadata": {},
   "outputs": [
    {
     "name": "stdout",
     "output_type": "stream",
     "text": [
      "+--------------+\n",
      "|total_sessions|\n",
      "+--------------+\n",
      "|          2354|\n",
      "+--------------+\n",
      "\n"
     ]
    }
   ],
   "source": [
    "total_sessions = sparkify_session.sql('SELECT COUNT (DISTINCT sessionId) AS total_sessions FROM sparkify_data')\n",
    "total_sessions.show()"
   ]
  },
  {
   "cell_type": "code",
   "execution_count": 121,
   "metadata": {},
   "outputs": [
    {
     "name": "stdout",
     "output_type": "stream",
     "text": [
      "+------+----------------------+\n",
      "|gender|count(DISTINCT userId)|\n",
      "+------+----------------------+\n",
      "|     F|                   104|\n",
      "|  null|                     1|\n",
      "|     M|                   121|\n",
      "+------+----------------------+\n",
      "\n"
     ]
    }
   ],
   "source": [
    "# Distribution of users by gender\n",
    "gender_distribution = sparkify_session.sql('SELECT gender, COUNT(DISTINCT userId) FROM sparkify_data GROUP BY gender')\n",
    "gender_distribution.show()"
   ]
  },
  {
   "cell_type": "code",
   "execution_count": 122,
   "metadata": {},
   "outputs": [
    {
     "name": "stdout",
     "output_type": "stream",
     "text": [
      "+-----+------+\n",
      "|level| count|\n",
      "+-----+------+\n",
      "| free| 58338|\n",
      "| paid|228162|\n",
      "+-----+------+\n",
      "\n"
     ]
    }
   ],
   "source": [
    "# Distribution of users by level\n",
    "level_distribution = sparkify_session.sql('SELECT level, COUNT(userId) AS count FROM sparkify_data GROUP BY level')\n",
    "level_distribution.show()"
   ]
  },
  {
   "cell_type": "code",
   "execution_count": 123,
   "metadata": {
    "scrolled": true
   },
   "outputs": [
    {
     "name": "stdout",
     "output_type": "stream",
     "text": [
      "+------+--------------+\n",
      "|userId|activity_count|\n",
      "+------+--------------+\n",
      "|    39|          9632|\n",
      "|      |          8346|\n",
      "|    92|          7230|\n",
      "|   140|          6880|\n",
      "|300011|          5732|\n",
      "|   124|          4825|\n",
      "|300021|          4659|\n",
      "|300017|          4428|\n",
      "|    85|          4370|\n",
      "|    42|          4257|\n",
      "|200023|          3769|\n",
      "|     6|          3761|\n",
      "|    29|          3603|\n",
      "|    54|          3437|\n",
      "|   100|          3214|\n",
      "|     9|          3191|\n",
      "|   126|          3102|\n",
      "|300015|          3051|\n",
      "|    91|          3014|\n",
      "|    98|          2891|\n",
      "+------+--------------+\n",
      "only showing top 20 rows\n",
      "\n"
     ]
    }
   ],
   "source": [
    "# Top users with the most activity\n",
    "top_users_activity = sparkify_session.sql('SELECT userId, COUNT(itemInSession) AS activity_count FROM sparkify_data GROUP BY userId ORDER BY activity_count DESC')\n",
    "top_users_activity.show()"
   ]
  },
  {
   "cell_type": "code",
   "execution_count": 124,
   "metadata": {},
   "outputs": [
    {
     "name": "stdout",
     "output_type": "stream",
     "text": [
      "+------+----------------------+\n",
      "|userId|average_session_length|\n",
      "+------+----------------------+\n",
      "|    51|    247.88055082899103|\n",
      "|   124|    248.17653659965674|\n",
      "|     7|    253.56058066666665|\n",
      "|    54|    250.38539934530093|\n",
      "|    15|    249.37701452978044|\n",
      "|   132|     250.5803443153526|\n",
      "|   101|    249.00612947690564|\n",
      "|    11|     246.7851051622875|\n",
      "|   138|    247.56032983574872|\n",
      "|    29|    249.18017257926041|\n",
      "|    69|    254.27913390222233|\n",
      "|    42|    246.79344140218302|\n",
      "|   112|    246.80347251162786|\n",
      "|    87|    252.46409273793992|\n",
      "|    73|    249.97440710875327|\n",
      "|     3|    254.32124037383176|\n",
      "|    30|    253.92254455892746|\n",
      "|   113|     252.4253198864354|\n",
      "|    34|    243.98272735849056|\n",
      "|    59|     249.2193277209945|\n",
      "+------+----------------------+\n",
      "only showing top 20 rows\n",
      "\n"
     ]
    }
   ],
   "source": [
    "# User activity patterns over time\n",
    "average_session_length = sparkify_session.sql('SELECT userId, AVG(length) AS average_session_length FROM sparkify_data GROUP BY userId')\n",
    "average_session_length.show()"
   ]
  },
  {
   "attachments": {},
   "cell_type": "markdown",
   "metadata": {},
   "source": [
    "### Artist and Song Analysis\n",
    "1. Distribution of artists and songs in the dataset\n",
    "\n",
    "2. Most popular artists or songs based on play count or user interactions\n",
    "\n",
    "3. Relationship between song length and user engagement"
   ]
  },
  {
   "cell_type": "code",
   "execution_count": 125,
   "metadata": {},
   "outputs": [
    {
     "name": "stdout",
     "output_type": "stream",
     "text": [
      "+--------------------+-----+\n",
      "|              artist|count|\n",
      "+--------------------+-----+\n",
      "|      The Black Keys| 1125|\n",
      "|         Silverstein|   60|\n",
      "|           Kate Nash|   99|\n",
      "|        Yann Tiersen|  139|\n",
      "|    Jane's Addiction|   68|\n",
      "|          Tim Hughes|   39|\n",
      "|          Carl Craig|    3|\n",
      "|Dashboard Confess...|   98|\n",
      "|Yonder Mountain S...|   63|\n",
      "|           Los Lobos|   45|\n",
      "|Pete Rock & C.L. ...|    2|\n",
      "|        Ziggy Marley|   28|\n",
      "|      Jarabe De Palo|   83|\n",
      "|               Rufio|   13|\n",
      "|WC And The Maad C...|    1|\n",
      "|      Jorge Gonzalez|   24|\n",
      "|                Silk|   22|\n",
      "|  The Watts Prophets|    6|\n",
      "|            La Shica|    2|\n",
      "|        Generation X|   19|\n",
      "+--------------------+-----+\n",
      "only showing top 20 rows\n",
      "\n",
      "+--------------------+-----+\n",
      "|                song|count|\n",
      "+--------------------+-----+\n",
      "|Never Gonna Be Al...|   50|\n",
      "|         TULENLIEKKI|   16|\n",
      "|      Underwaterboys|    1|\n",
      "|Saor (Free)/News ...|    1|\n",
      "|               New E|    1|\n",
      "|The Geeks Were Right|    2|\n",
      "|              Heaven|   86|\n",
      "|      Call Me Manana|    6|\n",
      "|             Push It|   32|\n",
      "|Cool Monsoon (Wea...|    3|\n",
      "|The Fun Lovin' Cr...|    3|\n",
      "|Turn Your Lights ...|    8|\n",
      "|          Growing Up|    6|\n",
      "|          Positivity|    2|\n",
      "|         Miracle Man|    2|\n",
      "|        I'm The Drug|    3|\n",
      "|I've Just Seen A ...|   10|\n",
      "|            Anna May|    1|\n",
      "|All The Things Sh...|    1|\n",
      "|    Blue Suede Shoes|    3|\n",
      "+--------------------+-----+\n",
      "only showing top 20 rows\n",
      "\n"
     ]
    }
   ],
   "source": [
    "# Distribution of artists and songs in the dataset\n",
    "artist_distribution = sparkify_session.sql('SELECT artist, COUNT(artist) AS count FROM sparkify_data GROUP BY artist')\n",
    "song_distribution = sparkify_session.sql('SELECT song, COUNT(song) AS count FROM sparkify_data GROUP BY song')\n",
    "\n",
    "artist_distribution.show()\n",
    "song_distribution.show()"
   ]
  },
  {
   "cell_type": "code",
   "execution_count": 126,
   "metadata": {},
   "outputs": [
    {
     "name": "stdout",
     "output_type": "stream",
     "text": [
      "+--------------------+----------+\n",
      "|              artist|play_count|\n",
      "+--------------------+----------+\n",
      "|       Kings Of Leon|      1841|\n",
      "|            Coldplay|      1813|\n",
      "|Florence + The Ma...|      1236|\n",
      "|       Dwight Yoakam|      1135|\n",
      "|            BjÃÂ¶rk|      1133|\n",
      "|      The Black Keys|      1125|\n",
      "|                Muse|      1090|\n",
      "|       Justin Bieber|      1044|\n",
      "|        Jack Johnson|      1007|\n",
      "|              Eminem|       953|\n",
      "|           Radiohead|       884|\n",
      "|     Alliance Ethnik|       876|\n",
      "|               Train|       854|\n",
      "|        Taylor Swift|       840|\n",
      "|         OneRepublic|       828|\n",
      "|         The Killers|       822|\n",
      "|         Linkin Park|       787|\n",
      "|         Evanescence|       781|\n",
      "|            Harmonia|       729|\n",
      "|           Daft Punk|       713|\n",
      "+--------------------+----------+\n",
      "only showing top 20 rows\n",
      "\n",
      "+--------------------+----------+\n",
      "|                song|play_count|\n",
      "+--------------------+----------+\n",
      "|      You're The One|      1153|\n",
      "|                Undo|      1026|\n",
      "|             Revelry|       854|\n",
      "|       Sehr kosmisch|       728|\n",
      "|Horn Concerto No....|       641|\n",
      "|Dog Days Are Over...|       574|\n",
      "|             Secrets|       466|\n",
      "|        Use Somebody|       459|\n",
      "|              Canada|       435|\n",
      "|             Invalid|       424|\n",
      "|    Ain't Misbehavin|       409|\n",
      "|       ReprÃÂ©sente|       393|\n",
      "|SinceritÃÂ© Et J...|       384|\n",
      "|Catch You Baby (S...|       373|\n",
      "|              Yellow|       343|\n",
      "|    Somebody To Love|       343|\n",
      "|    Hey_ Soul Sister|       334|\n",
      "|            The Gift|       327|\n",
      "|           Fireflies|       312|\n",
      "|          Love Story|       309|\n",
      "+--------------------+----------+\n",
      "only showing top 20 rows\n",
      "\n"
     ]
    }
   ],
   "source": [
    "# Most popular artists or songs based on play count or user interactions\n",
    "popular_artists = sparkify_session.sql('SELECT artist, COUNT(artist) AS play_count FROM sparkify_data WHERE page = \"NextSong\" GROUP BY artist ORDER BY play_count DESC')\n",
    "popular_songs = sparkify_session.sql('SELECT song, COUNT(song) AS play_count FROM sparkify_data WHERE page = \"NextSong\" GROUP BY song ORDER BY play_count DESC')\n",
    "\n",
    "popular_artists.show()\n",
    "popular_songs.show()"
   ]
  },
  {
   "cell_type": "code",
   "execution_count": 127,
   "metadata": {},
   "outputs": [
    {
     "name": "stdout",
     "output_type": "stream",
     "text": [
      "+--------------------+------------------+----------+------------------+\n",
      "|                song|      total_length|user_count|        avg_length|\n",
      "+--------------------+------------------+----------+------------------+\n",
      "|You Ain't Seen No...|        2730.65208|        12|210.05015999999998|\n",
      "|  Yo Queria Ser Fiel|         304.56118|         1|         304.56118|\n",
      "|             Amazing|        2015.73383|        11|         183.24853|\n",
      "|I've Just Seen A ...|         1104.9751|         9|         110.49751|\n",
      "|    Sic Of Elephants|2866.6730000000002|         9|          286.6673|\n",
      "|      Billy Breathes|        2984.61636|         8|         331.62404|\n",
      "|          Nada De Ti|2883.9133999999995|        11| 262.1739454545454|\n",
      "|             Push It| 6892.602629999999|        29|215.39383218749998|\n",
      "|              Heaven|       20606.75938|        58| 239.6134811627907|\n",
      "|      Underwaterboys|         290.84689|         1|         290.84689|\n",
      "|               Virgo|         206.91546|         1|         206.91546|\n",
      "|Never Gonna Be Al...|        11359.3245|        37|227.18649000000002|\n",
      "|            Anna May|         221.43955|         1|         221.43955|\n",
      "|Beggars & Hangers-On|         374.38649|         1|         374.38649|\n",
      "|             Banquet|         4767.2316|        20|         198.63465|\n",
      "|       The Beginning| 536.3970099999999|         3| 178.7990033333333|\n",
      "|Feather in a Base...|         147.64363|         1|         147.64363|\n",
      "|If I Knew Then (W...|         343.56154|         2|         171.78077|\n",
      "|   Magic Carpet Ride|       10946.82885|        36| 266.9958256097561|\n",
      "|It Is Safe (Album...|         298.34404|         1|         298.34404|\n",
      "+--------------------+------------------+----------+------------------+\n",
      "only showing top 20 rows\n",
      "\n"
     ]
    }
   ],
   "source": [
    "# Relationship between song length and user engagement\n",
    "song_length_user_engagement = sparkify_session.sql('SELECT song, SUM(length) AS total_length, COUNT(DISTINCT userId) AS user_count, AVG(length) AS avg_length FROM sparkify_data GROUP BY song')\n",
    "\n",
    "song_length_user_engagement.show()"
   ]
  },
  {
   "cell_type": "code",
   "execution_count": 128,
   "metadata": {},
   "outputs": [
    {
     "data": {
      "text/plain": [
       "(array([0, 1, 2, 3, 4, 5, 6, 7, 8, 9]),\n",
       " [Text(0, 0, 'Kings Of Leon'),\n",
       "  Text(1, 0, 'Coldplay'),\n",
       "  Text(2, 0, 'Florence + The Machine'),\n",
       "  Text(3, 0, 'Dwight Yoakam'),\n",
       "  Text(4, 0, 'BjÃ\\x83Â¶rk'),\n",
       "  Text(5, 0, 'The Black Keys'),\n",
       "  Text(6, 0, 'Muse'),\n",
       "  Text(7, 0, 'Justin Bieber'),\n",
       "  Text(8, 0, 'Jack Johnson'),\n",
       "  Text(9, 0, 'Eminem')])"
      ]
     },
     "execution_count": 128,
     "metadata": {},
     "output_type": "execute_result"
    },
    {
     "name": "stderr",
     "output_type": "stream",
     "text": [
      "/Users/fuchunyang/Library/Python/3.11/lib/python/site-packages/IPython/core/events.py:89: UserWarning: Glyph 131 (\\x83) missing from current font.\n",
      "  func(*args, **kwargs)\n",
      "/Users/fuchunyang/Library/Python/3.11/lib/python/site-packages/IPython/core/pylabtools.py:152: UserWarning: Glyph 131 (\\x83) missing from current font.\n",
      "  fig.canvas.print_figure(bytes_io, **kw)\n"
     ]
    },
    {
     "data": {
      "image/png": "[encoded data removed]",
      "text/plain": [
       "<Figure size 640x480 with 1 Axes>"
      ]
     },
     "metadata": {},
     "output_type": "display_data"
    }
   ],
   "source": [
    "artists = sparkify_session.sql('Select artist, count(artist) as total_songs from sparkify_data \\\n",
    "group by artist \\\n",
    "order by total_songs desc \\\n",
    "limit 10').toPandas()\n",
    "\n",
    "sns.barplot(x='artist', y='total_songs', data= artists)\n",
    "plt.title('Top 10 Artists')\n",
    "plt.xticks(rotation = 90)"
   ]
  },
  {
   "cell_type": "code",
   "execution_count": 129,
   "metadata": {},
   "outputs": [
    {
     "data": {
      "text/plain": [
       "(array([0, 1, 2, 3, 4, 5, 6, 7, 8, 9]),\n",
       " [Text(0, 0, \"You're The One\"),\n",
       "  Text(1, 0, 'Undo'),\n",
       "  Text(2, 0, 'Revelry'),\n",
       "  Text(3, 0, 'Sehr kosmisch'),\n",
       "  Text(4, 0, 'Horn Concerto No. 4 in E flat K495: II. Romance (Andante cantabile)'),\n",
       "  Text(5, 0, 'Dog Days Are Over (Radio Edit)'),\n",
       "  Text(6, 0, 'Secrets'),\n",
       "  Text(7, 0, 'Use Somebody'),\n",
       "  Text(8, 0, 'Canada'),\n",
       "  Text(9, 0, 'Invalid')])"
      ]
     },
     "execution_count": 129,
     "metadata": {},
     "output_type": "execute_result"
    },
    {
     "data": {
      "image/png": "[encoded data removed]",
      "text/plain": [
       "<Figure size 640x480 with 1 Axes>"
      ]
     },
     "metadata": {},
     "output_type": "display_data"
    }
   ],
   "source": [
    "# What are the most played songs?\n",
    "songs = sparkify_session.sql('select song, count(song) as plays from sparkify_data \\\n",
    "group by song \\\n",
    "order by plays desc \\\n",
    "limit 10').toPandas()\n",
    "\n",
    "sns.barplot(x='song', y='plays', data= songs)\n",
    "plt.title('Top 10 Most Played Songs')\n",
    "plt.xticks(rotation = 90)"
   ]
  },
  {
   "attachments": {},
   "cell_type": "markdown",
   "metadata": {},
   "source": [
    "### Page Analysis\n",
    "1. Explore the different types of user interactions captured in the page column, such as playing a song, adding to a playlist, or subscribing.\n",
    "2. Analyze the frequency and patterns of different page events.\n",
    "3. Investigate the sequence of page events to understand user behavior or the flow of user sessions"
   ]
  },
  {
   "cell_type": "code",
   "execution_count": 130,
   "metadata": {},
   "outputs": [
    {
     "name": "stdout",
     "output_type": "stream",
     "text": [
      "+--------------------+------+\n",
      "|                page| count|\n",
      "+--------------------+------+\n",
      "|              Cancel|    52|\n",
      "|    Submit Downgrade|    63|\n",
      "|         Thumbs Down|  2546|\n",
      "|                Home| 14457|\n",
      "|           Downgrade|  2055|\n",
      "|         Roll Advert|  3933|\n",
      "|              Logout|  3226|\n",
      "|       Save Settings|   310|\n",
      "|Cancellation Conf...|    52|\n",
      "|               About|   924|\n",
      "|            Settings|  1514|\n",
      "|               Login|  3241|\n",
      "|     Add to Playlist|  6526|\n",
      "|          Add Friend|  4277|\n",
      "|            NextSong|228108|\n",
      "|           Thumbs Up| 12551|\n",
      "|                Help|  1726|\n",
      "|             Upgrade|   499|\n",
      "|               Error|   258|\n",
      "|      Submit Upgrade|   159|\n",
      "+--------------------+------+\n",
      "only showing top 20 rows\n",
      "\n"
     ]
    }
   ],
   "source": [
    "# Explore different types of user interactions captured in the page column\n",
    "user_interactions = sparkify_session.sql('SELECT page, COUNT(userId) AS count FROM sparkify_data GROUP BY page')\n",
    "\n",
    "user_interactions.show()"
   ]
  },
  {
   "cell_type": "code",
   "execution_count": 131,
   "metadata": {},
   "outputs": [
    {
     "name": "stdout",
     "output_type": "stream",
     "text": [
      "+--------------------+---------+\n",
      "|                page|frequency|\n",
      "+--------------------+---------+\n",
      "|              Cancel|       52|\n",
      "|    Submit Downgrade|       63|\n",
      "|         Thumbs Down|     2546|\n",
      "|                Home|    14457|\n",
      "|           Downgrade|     2055|\n",
      "|         Roll Advert|     3933|\n",
      "|              Logout|     3226|\n",
      "|       Save Settings|      310|\n",
      "|Cancellation Conf...|       52|\n",
      "|               About|      924|\n",
      "|            Settings|     1514|\n",
      "|               Login|     3241|\n",
      "|     Add to Playlist|     6526|\n",
      "|          Add Friend|     4277|\n",
      "|            NextSong|   228108|\n",
      "|           Thumbs Up|    12551|\n",
      "|                Help|     1726|\n",
      "|             Upgrade|      499|\n",
      "|               Error|      258|\n",
      "|      Submit Upgrade|      159|\n",
      "+--------------------+---------+\n",
      "only showing top 20 rows\n",
      "\n"
     ]
    }
   ],
   "source": [
    "# Analyze the frequency and patterns of different page events\n",
    "page_event_frequency = sparkify_session.sql('SELECT page, COUNT(userId) AS frequency FROM sparkify_data GROUP BY page')\n",
    "\n",
    "page_event_frequency.show()"
   ]
  },
  {
   "cell_type": "code",
   "execution_count": 132,
   "metadata": {},
   "outputs": [
    {
     "name": "stdout",
     "output_type": "stream",
     "text": [
      "+------+--------------------+\n",
      "|userId|       page_sequence|\n",
      "+------+--------------------+\n",
      "|      |[Home, Login, Hom...|\n",
      "|    10|[NextSong, NextSo...|\n",
      "|   100|[Home, NextSong, ...|\n",
      "|100001|[Home, NextSong, ...|\n",
      "|100002|[Home, NextSong, ...|\n",
      "|100003|[NextSong, NextSo...|\n",
      "|100004|[Home, NextSong, ...|\n",
      "|100005|[Home, NextSong, ...|\n",
      "|100006|[Home, NextSong, ...|\n",
      "|100007|[NextSong, Add to...|\n",
      "|100008|[NextSong, NextSo...|\n",
      "|100009|[NextSong, NextSo...|\n",
      "|100010|[NextSong, NextSo...|\n",
      "|100011|[Home, NextSong, ...|\n",
      "|100012|[NextSong, NextSo...|\n",
      "|100013|[NextSong, NextSo...|\n",
      "|100014|[NextSong, NextSo...|\n",
      "|100015|[NextSong, NextSo...|\n",
      "|100016|[NextSong, NextSo...|\n",
      "|100017|[NextSong, NextSo...|\n",
      "+------+--------------------+\n",
      "only showing top 20 rows\n",
      "\n"
     ]
    }
   ],
   "source": [
    "# Investigate the sequence of page events to understand user behavior or the flow of user sessions\n",
    "user_page_sequence = sparkify_session.sql('SELECT userId, collect_list(page) AS page_sequence FROM sparkify_data GROUP BY userId')\n",
    "\n",
    "user_page_sequence.show()"
   ]
  },
  {
   "attachments": {},
   "cell_type": "markdown",
   "metadata": {},
   "source": [
    "### Location Analysis\n",
    "1. Analyze the distribution of users by location (location column) to identify regions with the highest user activity.\n",
    "2. Investigate if user behavior or preferences vary across different locations."
   ]
  },
  {
   "cell_type": "code",
   "execution_count": 133,
   "metadata": {},
   "outputs": [
    {
     "name": "stdout",
     "output_type": "stream",
     "text": [
      "+--------------------+----------+\n",
      "|            location|user_count|\n",
      "+--------------------+----------+\n",
      "|     Gainesville, FL|      1229|\n",
      "|Atlantic City-Ham...|      2176|\n",
      "|Deltona-Daytona B...|        73|\n",
      "|Kingsport-Bristol...|      1863|\n",
      "|New Haven-Milford...|      4007|\n",
      "|         Dubuque, IA|       651|\n",
      "|Las Vegas-Henders...|      2042|\n",
      "|Indianapolis-Carm...|       970|\n",
      "|Seattle-Tacoma-Be...|       246|\n",
      "|   Winston-Salem, NC|       819|\n",
      "|     Bakersfield, CA|      1775|\n",
      "|Los Angeles-Long ...|     30131|\n",
      "|Minneapolis-St. P...|      2134|\n",
      "|San Francisco-Oak...|      2647|\n",
      "|Phoenix-Mesa-Scot...|      4846|\n",
      "|Allentown-Bethleh...|       815|\n",
      "|Miami-Fort Lauder...|      3764|\n",
      "|           Selma, AL|      2027|\n",
      "|          Dayton, OH|       259|\n",
      "|Bridgeport-Stamfo...|       893|\n",
      "+--------------------+----------+\n",
      "only showing top 20 rows\n",
      "\n"
     ]
    }
   ],
   "source": [
    "# Analyze the distribution of users by location\n",
    "user_location_distribution = sparkify_session.sql('SELECT location, COUNT(userId) AS user_count FROM sparkify_data GROUP BY location')\n",
    "\n",
    "user_location_distribution.show()"
   ]
  },
  {
   "cell_type": "code",
   "execution_count": 134,
   "metadata": {},
   "outputs": [
    {
     "name": "stdout",
     "output_type": "stream",
     "text": [
      "+--------------------+---------------+----------+\n",
      "|            location|           page|user_count|\n",
      "+--------------------+---------------+----------+\n",
      "|         Jackson, MS|Add to Playlist|        87|\n",
      "|       Anchorage, AK|    Thumbs Down|        10|\n",
      "|        Danville, VA| Submit Upgrade|         1|\n",
      "|Buffalo-Cheektowa...|           Help|         3|\n",
      "|           Selma, AL|        Upgrade|         2|\n",
      "|           Price, UT|      Downgrade|         5|\n",
      "|Austin-Round Rock...|       NextSong|      1412|\n",
      "|          Dayton, OH|     Add Friend|         4|\n",
      "|Chicago-Napervill...|       NextSong|      4088|\n",
      "|New York-Newark-J...|          About|        51|\n",
      "|        Billings, MT|      Thumbs Up|        84|\n",
      "|Minneapolis-St. P...|           Help|         7|\n",
      "|          Laurel, MS|         Logout|        11|\n",
      "|Omaha-Council Blu...|Add to Playlist|         3|\n",
      "|     Gainesville, FL|         Logout|        15|\n",
      "|Milwaukee-Waukesh...|         Logout|        10|\n",
      "|          Dayton, OH|          About|         2|\n",
      "|Spokane-Spokane V...|       NextSong|      2903|\n",
      "|New York-Newark-J...|       NextSong|     19268|\n",
      "|         Boulder, CO|    Thumbs Down|         9|\n",
      "+--------------------+---------------+----------+\n",
      "only showing top 20 rows\n",
      "\n"
     ]
    }
   ],
   "source": [
    "# Investigate if user behavior or preferences vary across different locations\n",
    "user_behavior_by_location = sparkify_session.sql('SELECT location, page, COUNT(userId) AS user_count FROM sparkify_data GROUP BY location, page')\n",
    "\n",
    "user_behavior_by_location.show()"
   ]
  },
  {
   "attachments": {},
   "cell_type": "markdown",
   "metadata": {},
   "source": [
    "### Device or Browser Analysis\n",
    "1. Extract information from the userAgent column to analyze the types of devices or browsers used by the users.\n",
    "2. Explore user behavior or preferences based on the device or browser information."
   ]
  },
  {
   "cell_type": "code",
   "execution_count": 135,
   "metadata": {},
   "outputs": [
    {
     "name": "stdout",
     "output_type": "stream",
     "text": [
      "+------+--------------------+\n",
      "|userId|           userAgent|\n",
      "+------+--------------------+\n",
      "|     7|Mozilla/5.0 (Wind...|\n",
      "|   117|\"Mozilla/5.0 (Win...|\n",
      "|   150|\"Mozilla/5.0 (Mac...|\n",
      "|    98|\"Mozilla/5.0 (Mac...|\n",
      "|    38|\"Mozilla/5.0 (Mac...|\n",
      "|    41|Mozilla/5.0 (comp...|\n",
      "|    88|Mozilla/5.0 (Wind...|\n",
      "|   110|\"Mozilla/5.0 (Mac...|\n",
      "|    27|\"Mozilla/5.0 (Win...|\n",
      "|   129|\"Mozilla/5.0 (Win...|\n",
      "|   121|Mozilla/5.0 (X11;...|\n",
      "|    80|\"Mozilla/5.0 (Mac...|\n",
      "|   112|Mozilla/5.0 (Wind...|\n",
      "|    33|Mozilla/5.0 (Maci...|\n",
      "|    14|Mozilla/5.0 (Maci...|\n",
      "|    67|\"Mozilla/5.0 (Mac...|\n",
      "|   111|\"Mozilla/5.0 (Win...|\n",
      "|   148|Mozilla/5.0 (Wind...|\n",
      "|    92|\"Mozilla/5.0 (iPa...|\n",
      "|    30|Mozilla/5.0 (Wind...|\n",
      "+------+--------------------+\n",
      "only showing top 20 rows\n",
      "\n"
     ]
    }
   ],
   "source": [
    "# Extract information from the userAgent column to analyze the types of devices or browsers used by the users\n",
    "user_agent_analysis = sparkify_session.sql('SELECT userId, userAgent FROM sparkify_data GROUP BY userId, userAgent')\n",
    "\n",
    "user_agent_analysis.show()"
   ]
  },
  {
   "cell_type": "code",
   "execution_count": 136,
   "metadata": {},
   "outputs": [
    {
     "name": "stdout",
     "output_type": "stream",
     "text": [
      "+--------------------+----------+\n",
      "|           userAgent|user_count|\n",
      "+--------------------+----------+\n",
      "|\"Mozilla/5.0 (Win...|      5238|\n",
      "|Mozilla/5.0 (X11;...|        62|\n",
      "|\"Mozilla/5.0 (Mac...|     18448|\n",
      "|Mozilla/5.0 (Wind...|      3214|\n",
      "|Mozilla/5.0 (Wind...|      5989|\n",
      "|Mozilla/5.0 (comp...|      8624|\n",
      "|\"Mozilla/5.0 (Win...|      7624|\n",
      "|Mozilla/5.0 (Maci...|     10300|\n",
      "|                null|      8346|\n",
      "|\"Mozilla/5.0 (iPh...|      1976|\n",
      "|\"Mozilla/5.0 (Win...|     15395|\n",
      "|Mozilla/5.0 (Wind...|     16700|\n",
      "|Mozilla/5.0 (comp...|       815|\n",
      "|\"Mozilla/5.0 (Mac...|       235|\n",
      "|\"Mozilla/5.0 (Mac...|       512|\n",
      "|\"Mozilla/5.0 (Win...|     14598|\n",
      "|\"Mozilla/5.0 (Win...|      2868|\n",
      "|\"Mozilla/5.0 (iPa...|      8912|\n",
      "|Mozilla/5.0 (Wind...|      2442|\n",
      "|\"Mozilla/5.0 (Mac...|     17348|\n",
      "+--------------------+----------+\n",
      "only showing top 20 rows\n",
      "\n"
     ]
    }
   ],
   "source": [
    "# Explore user behavior or preferences based on the device or browser information\n",
    "user_behavior_by_device_browser = sparkify_session.sql('SELECT userAgent, COUNT(userId) AS user_count FROM sparkify_data GROUP BY userAgent')\n",
    "\n",
    "user_behavior_by_device_browser.show()"
   ]
  },
  {
   "attachments": {},
   "cell_type": "markdown",
   "metadata": {},
   "source": [
    "### Churn Analysis\n",
    "1. Define churn based on the Cancellation Confirmation event in the page column.\n",
    "2. Analyze churn rates and identify potential factors that contribute to user churn.\n",
    "3. Compare the behavior and engagement of users who churned versus those who stayed."
   ]
  },
  {
   "cell_type": "code",
   "execution_count": 137,
   "metadata": {},
   "outputs": [],
   "source": [
    "# Define churn based on the Cancellation Confirmation event in the page column\n",
    "churned_users = sparkify_session.sql('SELECT DISTINCT userId FROM sparkify_data WHERE page = \"Cancellation Confirmation\"')\n",
    "stayed_users = sparkify_session.sql('SELECT DISTINCT userId FROM sparkify_data').subtract(churned_users)"
   ]
  },
  {
   "cell_type": "code",
   "execution_count": 138,
   "metadata": {},
   "outputs": [
    {
     "name": "stdout",
     "output_type": "stream",
     "text": [
      "Churn Rate: 29.89%\n",
      "+--------------------+-------------+\n",
      "|                page|churned_count|\n",
      "+--------------------+-------------+\n",
      "|              Cancel|           52|\n",
      "|    Submit Downgrade|            9|\n",
      "|         Thumbs Down|          496|\n",
      "|                Home|         1672|\n",
      "|           Downgrade|          337|\n",
      "|         Roll Advert|          967|\n",
      "|              Logout|          553|\n",
      "|       Save Settings|           58|\n",
      "|Cancellation Conf...|           52|\n",
      "|               About|           56|\n",
      "|            Settings|          270|\n",
      "|     Add to Playlist|         1038|\n",
      "|          Add Friend|          636|\n",
      "|            NextSong|        36394|\n",
      "|           Thumbs Up|         1859|\n",
      "|                Help|          239|\n",
      "|             Upgrade|          112|\n",
      "|               Error|           32|\n",
      "|      Submit Upgrade|           32|\n",
      "+--------------------+-------------+\n",
      "\n",
      "+-------------------+------------+\n",
      "|               page|stayed_count|\n",
      "+-------------------+------------+\n",
      "|             Cancel|          52|\n",
      "|   Submit Downgrade|          63|\n",
      "|        Thumbs Down|        2546|\n",
      "|               Home|       14457|\n",
      "|          Downgrade|        2055|\n",
      "|        Roll Advert|        3933|\n",
      "|             Logout|        3226|\n",
      "|      Save Settings|         310|\n",
      "|              About|         924|\n",
      "|Submit Registration|           5|\n",
      "|           Settings|        1514|\n",
      "|              Login|        3241|\n",
      "|           Register|          18|\n",
      "|    Add to Playlist|        6526|\n",
      "|         Add Friend|        4277|\n",
      "|           NextSong|      228108|\n",
      "|          Thumbs Up|       12551|\n",
      "|               Help|        1726|\n",
      "|            Upgrade|         499|\n",
      "|              Error|         258|\n",
      "+-------------------+------------+\n",
      "only showing top 20 rows\n",
      "\n"
     ]
    }
   ],
   "source": [
    "# Analyze churn rates\n",
    "churn_rate = churned_users.count() / stayed_users.count()\n",
    "\n",
    "print(\"Churn Rate: {:.2%}\".format(churn_rate))\n",
    "\n",
    "# Compare the behavior and engagement of users who churned versus those who stayed\n",
    "churned_users_behavior = sparkify_session.sql('SELECT page, COUNT(userId) AS churned_count FROM sparkify_data WHERE userId IN (SELECT DISTINCT userId FROM sparkify_data WHERE page = \"Cancellation Confirmation\") GROUP BY page')\n",
    "\n",
    "stayed_users_behavior = sparkify_session.sql('SELECT page, COUNT(userId) AS stayed_count FROM sparkify_data WHERE userId IN (SELECT DISTINCT userId FROM sparkify_data) AND page != \"Cancellation Confirmation\" GROUP BY page')\n",
    "\n",
    "churned_users_behavior.show()\n",
    "stayed_users_behavior.show()"
   ]
  },
  {
   "cell_type": "code",
   "execution_count": 139,
   "metadata": {},
   "outputs": [
    {
     "data": {
      "image/png": "[encoded data removed]",
      "text/plain": [
       "<Figure size 1500x800 with 1 Axes>"
      ]
     },
     "metadata": {},
     "output_type": "display_data"
    }
   ],
   "source": [
    "churned_users_behavior_df = churned_users_behavior.toPandas()\n",
    "plt.figure(figsize=(15, 8))\n",
    "sns.barplot(x='page', y='churned_count', data=churned_users_behavior_df)\n",
    "plt.title('Churned User Behavior')\n",
    "plt.xlabel('Page')\n",
    "plt.ylabel('Count')\n",
    "plt.xticks(rotation=45)  # Rotate x-axis labels by 45 degrees\n",
    "\n",
    "# Display the plot\n",
    "plt.show()"
   ]
  },
  {
   "cell_type": "code",
   "execution_count": 140,
   "metadata": {},
   "outputs": [
    {
     "data": {
      "image/png": "[encoded data removed]",
      "text/plain": [
       "<Figure size 1500x800 with 1 Axes>"
      ]
     },
     "metadata": {},
     "output_type": "display_data"
    }
   ],
   "source": [
    "stayed_users_behavior_df = stayed_users_behavior.toPandas()\n",
    "# Plot the stayed user behavior\n",
    "plt.figure(figsize=(15, 8))\n",
    "sns.barplot(x='page', y='stayed_count', data=stayed_users_behavior_df)\n",
    "plt.title('Stayed User Behavior')\n",
    "plt.xlabel('Page')\n",
    "plt.ylabel('Count')\n",
    "plt.xticks(rotation=45)  # Rotate x-axis labels by 45 degrees\n",
    "\n",
    "# Display the plot\n",
    "plt.show()"
   ]
  },
  {
   "cell_type": "code",
   "execution_count": 141,
   "metadata": {},
   "outputs": [
    {
     "name": "stderr",
     "output_type": "stream",
     "text": [
      "[Stage 522:============================>                            (4 + 4) / 8]\r"
     ]
    },
    {
     "name": "stdout",
     "output_type": "stream",
     "text": [
      "   isChurn  totalUsers\n",
      "0        0         174\n",
      "1        1          52\n"
     ]
    },
    {
     "name": "stderr",
     "output_type": "stream",
     "text": [
      "                                                                                \r"
     ]
    }
   ],
   "source": [
    "# Define churn flag UDF\n",
    "churn_flag = udf(lambda x: 1 if x == 'Cancellation Confirmation' else 0, IntegerType())\n",
    "\n",
    "# Add isChurn column to DataFrame\n",
    "df = df.withColumn('isChurn', churn_flag('page'))\n",
    "\n",
    "# Define window specification for churn calculation\n",
    "windowval = Window.partitionBy('userId').orderBy(desc('ts')).rangeBetween(Window.unboundedPreceding, 0)\n",
    "\n",
    "# Calculate churn count using window function\n",
    "df = df.withColumn('churnCount', Fsum('isChurn').over(windowval))\n",
    "\n",
    "# Create temporary view for data manipulation and exploration using SQL\n",
    "df.createOrReplaceTempView('sparkify_churn_data')\n",
    "\n",
    "# Total churned users\n",
    "churn_distribution = sparkify_session.sql('SELECT churnCount AS isChurn, COUNT(DISTINCT userId) AS totalUsers FROM sparkify_churn_data GROUP BY churnCount').toPandas()\n",
    "\n",
    "# Display churn distribution\n",
    "print(churn_distribution)"
   ]
  },
  {
   "cell_type": "code",
   "execution_count": 142,
   "metadata": {},
   "outputs": [
    {
     "data": {
      "text/plain": [
       "Text(0.5, 1.0, 'Churned Customer Distribution')"
      ]
     },
     "execution_count": 142,
     "metadata": {},
     "output_type": "execute_result"
    },
    {
     "data": {
      "image/png": "[encoded data removed]",
      "text/plain": [
       "<Figure size 640x480 with 1 Axes>"
      ]
     },
     "metadata": {},
     "output_type": "display_data"
    }
   ],
   "source": [
    "sns.barplot(x='isChurn', y='totalUsers', data= churn_distribution)\n",
    "plt.title('Churned Customer Distribution')"
   ]
  },
  {
   "cell_type": "code",
   "execution_count": 143,
   "metadata": {},
   "outputs": [
    {
     "data": {
      "text/plain": [
       "Text(0.5, 1.0, 'Churned Customer Distribution by Gender')"
      ]
     },
     "execution_count": 143,
     "metadata": {},
     "output_type": "execute_result"
    },
    {
     "data": {
      "image/png": "[encoded data removed]",
      "text/plain": [
       "<Figure size 640x480 with 1 Axes>"
      ]
     },
     "metadata": {},
     "output_type": "display_data"
    }
   ],
   "source": [
    "# Gender Distribution by Churn\n",
    "gender_dist = sparkify_session.sql('Select isChurn, gender, count( distinct userId) from sparkify_churn_data \\\n",
    "group by isChurn, gender').withColumnRenamed('count(DISTINCT userId)', 'Volume').toPandas()\n",
    "sns.barplot(x='isChurn', y='Volume', hue = 'gender', data= gender_dist)\n",
    "plt.title('Churned Customer Distribution by Gender')"
   ]
  },
  {
   "attachments": {},
   "cell_type": "markdown",
   "metadata": {},
   "source": [
    "# Feature Engineering\n",
    "Once you've familiarized yourself with the data, build out the features you find promising to train your model on. To work with the full dataset, you can follow the following steps.\n",
    "- Write a script to extract the necessary features from the smaller subset of data\n",
    "- Ensure that your script is scalable, using the best practices discussed in Lesson 3\n",
    "- Try your script on the full data set, debugging your script if necessary\n",
    "\n",
    "If you are working in the classroom workspace, you can just extract features based on the small subset of data contained here. Be sure to transfer over this work to the larger dataset when you work on your Spark cluster."
   ]
  },
  {
   "cell_type": "code",
   "execution_count": 144,
   "metadata": {},
   "outputs": [],
   "source": [
    "def create_page_features(df):\n",
    "    \n",
    "    \"\"\" Creates features based on several of the values from the page variable\n",
    "    Args:\n",
    "    df (pyspark.sql.DataFrame): Spark DataFrame containing user activity data.\n",
    "\n",
    "    Returns:\n",
    "    list: List of Spark DataFrames, each representing a feature based on the counts of specific page values.\n",
    "    \"\"\"\n",
    "    \n",
    "    pages = ['Next Song', 'Add Friend', 'Thumbs Up', 'Thumbs Down', 'Add to Playlist']\n",
    "    renamed_columns = ['skippedSongs', 'friendsAdded', 'thumbsUp', 'thumbsDown', 'playlistAdditions']\n",
    "    page_features = []\n",
    "    \n",
    "    # Iterate over the pages and renamed columns to create features\n",
    "    for page, renamed_col in zip(pages , renamed_columns):\n",
    "        var = df.select('userId', 'page')\\\n",
    "        .groupby('userId', 'page')\\\n",
    "        .agg({'page' : 'count'})\\\n",
    "        .filter(df.page == page)\\\n",
    "        .withColumnRenamed('count(page)', renamed_col)\n",
    "        # Append the created feature DataFrame to the list\n",
    "        page_features.append(var)\n",
    "        \n",
    "    return page_features"
   ]
  },
  {
   "cell_type": "code",
   "execution_count": 146,
   "metadata": {},
   "outputs": [],
   "source": [
    "def create_features(df):\n",
    "\n",
    "    \"\"\" Creates all features for modelling and returns a new dataframe with each unique user as an instance\n",
    "    Args:\n",
    "    df (pyspark.sql.DataFrame): Spark DataFrame containing raw data.\n",
    "\n",
    "    Returns:\n",
    "    engineered_df (pyspark.sql.DataFrame): Spark DataFrame with unique users and their engineered features showcasing user behavior.\n",
    "    \"\"\"\n",
    "    \n",
    "    # Create gender feature\n",
    "    male_flag = udf(lambda x: 1 if x == 'M' else 0, IntegerType())\n",
    "    df = df.withColumn('isMale', male_flag('gender'))\n",
    "    \n",
    "    # Create page features\n",
    "    features = create_page_features(df)\n",
    "    \n",
    "    # Count total sessions\n",
    "    sessions = df.select('userId', 'sessionId').\\\n",
    "    groupBy('userId').\\\n",
    "    agg({'sessionId': 'count'}).\\\n",
    "    withColumnRenamed('count(sessionId)', 'totalSessions')\n",
    "    \n",
    "    # Sum total Length\n",
    "    total_length = df.select('userId', 'length').\\\n",
    "    groupBy('userId').\\\n",
    "    agg({'length': 'sum'}).\\\n",
    "    withColumnRenamed('sum(length)', 'totalLength')\n",
    "    \n",
    "    # Combine all features \n",
    "    features.extend([sessions, total_length])\n",
    "    \n",
    "    for i in features:\n",
    "        df = df.join(i, on = ['userId'], how = 'outer')\n",
    "    \n",
    "    engineered_df = df.select('userId', 'isChurn', 'isMale', 'thumbsUp', 'thumbsDown', 'playlistAdditions', \n",
    "          'totalSessions', 'totalLength', 'friendsAdded', 'skippedSongs').dropDuplicates()\n",
    "\n",
    "    return engineered_df"
   ]
  },
  {
   "cell_type": "code",
   "execution_count": 147,
   "metadata": {},
   "outputs": [],
   "source": [
    "new_df = create_features(df)\n",
    "new_df = new_df.fillna(0)"
   ]
  },
  {
   "cell_type": "code",
   "execution_count": 148,
   "metadata": {},
   "outputs": [
    {
     "name": "stderr",
     "output_type": "stream",
     "text": [
      "                                                                                \r"
     ]
    }
   ],
   "source": [
    "for i in ['thumbsUp', 'thumbsDown', 'playlistAdditions', 'totalSessions', 'totalLength', 'friendsAdded', 'skippedSongs']:\n",
    "    # VectorAssembler Transformation - Converting column to vector type\n",
    "    assembler = VectorAssembler(inputCols=[i],outputCol=i+\"_Vect\")\n",
    "\n",
    "    # MinMaxScaler Transformation\n",
    "    scaler = MinMaxScaler(inputCol=i+\"_Vect\", outputCol=i+\"_Scaled\")\n",
    "\n",
    "    # Pipeline of VectorAssembler and MinMaxScaler\n",
    "    pipeline = Pipeline(stages=[assembler, scaler])\n",
    "\n",
    "    # Fitting pipeline on dataframe\n",
    "    new_df = pipeline.fit(new_df).transform(new_df).drop(i+\"_Vect\")"
   ]
  },
  {
   "cell_type": "code",
   "execution_count": 149,
   "metadata": {},
   "outputs": [],
   "source": [
    "all_feat_assembler = VectorAssembler(inputCols=['thumbsUp_Scaled', 'thumbsDown_Scaled', 'playlistAdditions_Scaled', \n",
    "                                                'totalSessions_Scaled', 'totalLength_Scaled', 'friendsAdded_Scaled', \n",
    "                                                'skippedSongs_Scaled','isMale'],outputCol=\"features\")\n",
    "new_df = all_feat_assembler.transform(new_df)"
   ]
  },
  {
   "cell_type": "code",
   "execution_count": 150,
   "metadata": {},
   "outputs": [
    {
     "data": {
      "text/plain": [
       "DataFrame[userId: string, isChurn: int, isMale: int, thumbsUp: bigint, thumbsDown: bigint, playlistAdditions: bigint, totalSessions: bigint, totalLength: double, friendsAdded: bigint, skippedSongs: bigint, thumbsUp_Scaled: vector, thumbsDown_Scaled: vector, playlistAdditions_Scaled: vector, totalSessions_Scaled: vector, totalLength_Scaled: vector, friendsAdded_Scaled: vector, skippedSongs_Scaled: vector, features: vector]"
      ]
     },
     "execution_count": 150,
     "metadata": {},
     "output_type": "execute_result"
    }
   ],
   "source": [
    "new_df"
   ]
  },
  {
   "attachments": {},
   "cell_type": "markdown",
   "metadata": {},
   "source": [
    "# Modeling\n",
    "Split the full dataset into train, test, and validation sets. Test out several of the machine learning methods you learned. Evaluate the accuracy of the various models, tuning parameters as necessary. Determine your winning model based on test accuracy and report results on the validation set. Since the churned users are a fairly small subset, I suggest using F1 score as the metric to optimize."
   ]
  },
  {
   "cell_type": "code",
   "execution_count": 151,
   "metadata": {},
   "outputs": [],
   "source": [
    "new_df = new_df.select(new_df['isChurn'].alias('label'),new_df['features'])"
   ]
  },
  {
   "cell_type": "code",
   "execution_count": 152,
   "metadata": {},
   "outputs": [
    {
     "name": "stderr",
     "output_type": "stream",
     "text": [
      "                                                                                \r"
     ]
    },
    {
     "name": "stdout",
     "output_type": "stream",
     "text": [
      "Training Dataset Count: 236\n"
     ]
    },
    {
     "name": "stderr",
     "output_type": "stream",
     "text": [
      "[Stage 1573:=>(7 + 1) / 8][Stage 1575:> (0 + 1) / 1][Stage 1579:> (0 + 1) / 1]8]\r"
     ]
    },
    {
     "name": "stdout",
     "output_type": "stream",
     "text": [
      "Test Dataset Count: 42\n"
     ]
    },
    {
     "name": "stderr",
     "output_type": "stream",
     "text": [
      "                                                                                \r"
     ]
    }
   ],
   "source": [
    "train, test = new_df.randomSplit([0.8, 0.2], seed = 42)\n",
    "sub_test, validation = test.randomSplit([0.5, 0.5], seed = 42)\n",
    "print(\"Training Dataset Count: \" + str(train.count()))\n",
    "print(\"Test Dataset Count: \" + str(test.count()))"
   ]
  },
  {
   "cell_type": "code",
   "execution_count": 154,
   "metadata": {},
   "outputs": [
    {
     "name": "stderr",
     "output_type": "stream",
     "text": [
      "[Stage 3106:> (0 + 8) / 8][Stage 3108:> (0 + 0) / 1][Stage 3110:> (0 + 0) / 1]8]\r"
     ]
    },
    {
     "name": "stdout",
     "output_type": "stream",
     "text": [
      "Random Forest F1-Score: 0.69\n"
     ]
    },
    {
     "name": "stderr",
     "output_type": "stream",
     "text": [
      "                                                                                \r"
     ]
    }
   ],
   "source": [
    "rfc = RandomForestClassifier()\n",
    "rfc_fitted_model = rfc.fit(train)\n",
    "evaluator =  MulticlassClassificationEvaluator(metricName = 'f1')\n",
    "predictions = rfc_fitted_model.transform(test)\n",
    "f1_score = evaluator.evaluate(predictions)\n",
    "print('Random Forest F1-Score: {}'.format(round(f1_score,2)))"
   ]
  },
  {
   "cell_type": "code",
   "execution_count": 160,
   "metadata": {},
   "outputs": [
    {
     "name": "stderr",
     "output_type": "stream",
     "text": [
      "[Stage 14316:>                                                      (0 + 1) / 1]\r"
     ]
    },
    {
     "name": "stdout",
     "output_type": "stream",
     "text": [
      "Logistic Regression F1-Score: 0.79\n"
     ]
    },
    {
     "name": "stderr",
     "output_type": "stream",
     "text": [
      "                                                                                \r"
     ]
    }
   ],
   "source": [
    "lr = LogisticRegression(featuresCol=\"features\", labelCol=\"label\")\n",
    "lr_fitted_model = lr.fit(train)\n",
    "predictions = lr_fitted_model.transform(test)\n",
    "evaluator = MulticlassClassificationEvaluator(metricName = 'f1')\n",
    "lr_f1_score = evaluator.evaluate(predictions)\n",
    "print('Logistic Regression F1-Score: {}'.format(round(lr_f1_score,2)))"
   ]
  },
  {
   "cell_type": "code",
   "execution_count": 158,
   "metadata": {},
   "outputs": [
    {
     "name": "stderr",
     "output_type": "stream",
     "text": [
      "[Stage 12287:>(7 + 1) / 8][Stage 12289:>(0 + 1) / 1][Stage 12293:>(0 + 1) / 1]8]\r"
     ]
    },
    {
     "name": "stdout",
     "output_type": "stream",
     "text": [
      "SVM F1-Score: 0.76\n"
     ]
    },
    {
     "name": "stderr",
     "output_type": "stream",
     "text": [
      "                                                                                \r"
     ]
    }
   ],
   "source": [
    "svm = LinearSVC(featuresCol=\"features\", labelCol=\"label\")\n",
    "svm_fitted_model = svm.fit(train)\n",
    "predictions = svm_fitted_model.transform(test)\n",
    "evaluator = MulticlassClassificationEvaluator(metricName = 'f1')\n",
    "svm_f1_score = evaluator.evaluate(predictions)\n",
    "print('SVM F1-Score: {}'.format(round(svm_f1_score,2)))"
   ]
  },
  {
   "cell_type": "code",
   "execution_count": 161,
   "metadata": {},
   "outputs": [
    {
     "name": "stderr",
     "output_type": "stream",
     "text": [
      "23/07/03 15:44:24 WARN DAGScheduler: Broadcasting large task binary with size 1019.9 KiB\n",
      "23/07/03 15:44:25 WARN DAGScheduler: Broadcasting large task binary with size 1001.4 KiB\n",
      "23/07/03 15:44:41 WARN DAGScheduler: Broadcasting large task binary with size 1019.9 KiB\n",
      "23/07/03 15:44:42 WARN DAGScheduler: Broadcasting large task binary with size 1001.4 KiB\n",
      "23/07/03 15:49:06 WARN DAGScheduler: Broadcasting large task binary with size 1007.6 KiB\n",
      "23/07/03 15:49:27 WARN DAGScheduler: Broadcasting large task binary with size 1007.6 KiB\n",
      "[Stage 24736:>(0 + 8) / 8][Stage 24738:>(0 + 0) / 1][Stage 24740:>(0 + 0) / 1]1]\r"
     ]
    },
    {
     "name": "stdout",
     "output_type": "stream",
     "text": [
      "Random Forest F1-Score: 0.71\n"
     ]
    },
    {
     "name": "stderr",
     "output_type": "stream",
     "text": [
      "                                                                                \r"
     ]
    }
   ],
   "source": [
    "# Create a Random Forest classifier\n",
    "rfc = RandomForestClassifier()\n",
    "\n",
    "# Define the parameter grid to search over\n",
    "paramGrid = ParamGridBuilder() \\\n",
    "    .addGrid(rfc.numTrees, [10, 50, 100]) \\\n",
    "    .addGrid(rfc.maxDepth, [5, 10, 20]) \\\n",
    "    .build()\n",
    "\n",
    "# Create a cross-validator with the evaluation metric\n",
    "evaluator = MulticlassClassificationEvaluator(metricName='f1')\n",
    "\n",
    "# Create a cross-validator\n",
    "crossval = CrossValidator(estimator=rfc,\n",
    "                          estimatorParamMaps=paramGrid,\n",
    "                          evaluator=evaluator,\n",
    "                          numFolds=3)\n",
    "\n",
    "# Fit the model with cross-validation\n",
    "cvModel = crossval.fit(train)\n",
    "\n",
    "# Get the best model\n",
    "bestModel = cvModel.bestModel\n",
    "\n",
    "# Make predictions on the test data using the best model\n",
    "predictions = bestModel.transform(test)\n",
    "\n",
    "# Evaluate the model\n",
    "f1_score = evaluator.evaluate(predictions)\n",
    "print('Random Forest F1-Score: {}'.format(round(f1_score, 2)))"
   ]
  },
  {
   "attachments": {},
   "cell_type": "markdown",
   "metadata": {},
   "source": [
    "# Final Steps\n",
    "Clean up your code, adding comments and renaming variables to make the code easier to read and maintain. Refer to the Spark Project Overview page and Data Scientist Capstone Project Rubric to make sure you are including all components of the capstone project and meet all expectations. Remember, this includes thorough documentation in a README file in a Github repository, as well as a web app or blog post."
   ]
  }
 ],
 "metadata": {
  "kernelspec": {
   "display_name": "Python 3",
   "language": "python",
   "name": "python3"
  },
  "language_info": {
   "codemirror_mode": {
    "name": "ipython",
    "version": 3
   },
   "file_extension": ".py",
   "mimetype": "text/x-python",
   "name": "python",
   "nbconvert_exporter": "python",
   "pygments_lexer": "ipython3",
   "version": "3.11.0"
  }
 },
 "nbformat": 4,
 "nbformat_minor": 2
}
